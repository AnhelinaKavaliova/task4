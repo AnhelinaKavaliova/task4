{
  "cells": [
    {
      "cell_type": "markdown",
      "metadata": {
        "id": "view-in-github",
        "colab_type": "text"
      },
      "source": [
        "<a href=\"https://colab.research.google.com/github/AnhelinaKavaliova/task4/blob/main/PySpark_Basics.ipynb\" target=\"_parent\"><img src=\"https://colab.research.google.com/assets/colab-badge.svg\" alt=\"Open In Colab\"/></a>"
      ]
    },
    {
      "cell_type": "code",
      "source": [
        "!pip install pyspark"
      ],
      "metadata": {
        "colab": {
          "base_uri": "https://localhost:8080/"
        },
        "id": "GK29o-is2LgR",
        "outputId": "59d242a0-e311-425d-d04c-2db60ac185bf"
      },
      "id": "GK29o-is2LgR",
      "execution_count": 2,
      "outputs": [
        {
          "output_type": "stream",
          "name": "stdout",
          "text": [
            "Collecting pyspark\n",
            "  Downloading pyspark-3.5.2.tar.gz (317.3 MB)\n",
            "\u001b[2K     \u001b[90m━━━━━━━━━━━━━━━━━━━━━━━━━━━━━━━━━━━━━━━━\u001b[0m \u001b[32m317.3/317.3 MB\u001b[0m \u001b[31m5.1 MB/s\u001b[0m eta \u001b[36m0:00:00\u001b[0m\n",
            "\u001b[?25h  Preparing metadata (setup.py) ... \u001b[?25l\u001b[?25hdone\n",
            "Requirement already satisfied: py4j==0.10.9.7 in /usr/local/lib/python3.10/dist-packages (from pyspark) (0.10.9.7)\n",
            "Building wheels for collected packages: pyspark\n",
            "  Building wheel for pyspark (setup.py) ... \u001b[?25l\u001b[?25hdone\n",
            "  Created wheel for pyspark: filename=pyspark-3.5.2-py2.py3-none-any.whl size=317812365 sha256=8eceecd4924ecc4cb5615dcc9516ac70abf7448a6748d8ebccb8a4d04866ad94\n",
            "  Stored in directory: /root/.cache/pip/wheels/34/34/bd/03944534c44b677cd5859f248090daa9fb27b3c8f8e5f49574\n",
            "Successfully built pyspark\n",
            "Installing collected packages: pyspark\n",
            "Successfully installed pyspark-3.5.2\n"
          ]
        }
      ]
    },
    {
      "cell_type": "markdown",
      "source": [
        "#PySpark_Basics"
      ],
      "metadata": {
        "id": "wRnvEGWCBg8_"
      },
      "id": "wRnvEGWCBg8_"
    },
    {
      "cell_type": "markdown",
      "id": "trained-moses",
      "metadata": {
        "id": "trained-moses"
      },
      "source": [
        "import libraries(I provide all libs that I need when make this tasks, if you need some external import them here)"
      ]
    },
    {
      "cell_type": "code",
      "execution_count": 1,
      "id": "induced-african",
      "metadata": {
        "id": "induced-african"
      },
      "outputs": [],
      "source": [
        "import pyspark\n",
        "from pyspark.sql import SparkSession\n",
        "from pyspark.sql.types import StructType, StructField, IntegerType, StringType\n",
        "from pyspark.sql.functions import col\n",
        "from pyspark.sql.functions import max, avg, min\n",
        "from pyspark.sql.window import Window\n",
        "from pyspark.sql.functions import row_number, desc, col\n",
        "from pyspark.sql.functions import when"
      ]
    },
    {
      "cell_type": "markdown",
      "id": "permanent-photographer",
      "metadata": {
        "id": "permanent-photographer"
      },
      "source": [
        "create local SparkSession"
      ]
    },
    {
      "cell_type": "code",
      "execution_count": 2,
      "id": "stock-partnership",
      "metadata": {
        "id": "stock-partnership"
      },
      "outputs": [],
      "source": [
        "spark = SparkSession.builder.master(\"local[*]\").appName(\"PySpark_Basic\").getOrCreate()"
      ]
    },
    {
      "cell_type": "code",
      "source": [
        "spark"
      ],
      "metadata": {
        "colab": {
          "base_uri": "https://localhost:8080/",
          "height": 219
        },
        "id": "ea0rCQC08elI",
        "outputId": "f4ebc166-3c8b-473c-b895-cd072492b465"
      },
      "id": "ea0rCQC08elI",
      "execution_count": 3,
      "outputs": [
        {
          "output_type": "execute_result",
          "data": {
            "text/plain": [
              "<pyspark.sql.session.SparkSession at 0x7f2700190550>"
            ],
            "text/html": [
              "\n",
              "            <div>\n",
              "                <p><b>SparkSession - in-memory</b></p>\n",
              "                \n",
              "        <div>\n",
              "            <p><b>SparkContext</b></p>\n",
              "\n",
              "            <p><a href=\"http://93d963715b24:4040\">Spark UI</a></p>\n",
              "\n",
              "            <dl>\n",
              "              <dt>Version</dt>\n",
              "                <dd><code>v3.5.2</code></dd>\n",
              "              <dt>Master</dt>\n",
              "                <dd><code>local[*]</code></dd>\n",
              "              <dt>AppName</dt>\n",
              "                <dd><code>PySpark_Basic</code></dd>\n",
              "            </dl>\n",
              "        </div>\n",
              "        \n",
              "            </div>\n",
              "        "
            ]
          },
          "metadata": {},
          "execution_count": 3
        }
      ]
    },
    {
      "cell_type": "markdown",
      "id": "juvenile-blame",
      "metadata": {
        "id": "juvenile-blame"
      },
      "source": [
        "read csv with inferschema"
      ]
    },
    {
      "cell_type": "code",
      "execution_count": 6,
      "id": "computational-liverpool",
      "metadata": {
        "colab": {
          "base_uri": "https://localhost:8080/"
        },
        "id": "computational-liverpool",
        "outputId": "62f579e0-687b-4b11-b3a3-062a22205567"
      },
      "outputs": [
        {
          "output_type": "stream",
          "name": "stdout",
          "text": [
            "CPU times: user 80 ms, sys: 7.29 ms, total: 87.3 ms\n",
            "Wall time: 10.8 s\n"
          ]
        }
      ],
      "source": [
        "%%time\n",
        "df = spark.read.csv(\"./PySpark_Basics/ds_salaries.csv\", inferSchema=True, header=True)"
      ]
    },
    {
      "cell_type": "markdown",
      "id": "stopped-dominant",
      "metadata": {
        "id": "stopped-dominant"
      },
      "source": [
        "read csv one more time with the same code and you will see that it almostly don't take time, because info already in SparkSession and it will not read nothing\n",
        "from this file"
      ]
    },
    {
      "cell_type": "code",
      "execution_count": 7,
      "id": "aging-neighborhood",
      "metadata": {
        "colab": {
          "base_uri": "https://localhost:8080/"
        },
        "id": "aging-neighborhood",
        "outputId": "c78758c1-8c94-4677-ed70-2ff26106872e"
      },
      "outputs": [
        {
          "output_type": "stream",
          "name": "stdout",
          "text": [
            "CPU times: user 8.2 ms, sys: 1.02 ms, total: 9.23 ms\n",
            "Wall time: 767 ms\n"
          ]
        }
      ],
      "source": [
        "%%time\n",
        "df_try = spark.read.csv(\"./PySpark_Basics/ds_salaries.csv\", inferSchema=True, header=True)"
      ]
    },
    {
      "cell_type": "markdown",
      "id": "mature-tomorrow",
      "metadata": {
        "id": "mature-tomorrow"
      },
      "source": [
        "write schema of scv on screen"
      ]
    },
    {
      "cell_type": "code",
      "execution_count": 8,
      "id": "least-communications",
      "metadata": {
        "colab": {
          "base_uri": "https://localhost:8080/"
        },
        "id": "least-communications",
        "outputId": "1773fb26-de47-49c4-e425-006e66d19e86"
      },
      "outputs": [
        {
          "output_type": "stream",
          "name": "stdout",
          "text": [
            "root\n",
            " |-- _c0: integer (nullable = true)\n",
            " |-- work_year: integer (nullable = true)\n",
            " |-- experience_level: string (nullable = true)\n",
            " |-- employment_type: string (nullable = true)\n",
            " |-- job_title: string (nullable = true)\n",
            " |-- salary: integer (nullable = true)\n",
            " |-- salary_currency: string (nullable = true)\n",
            " |-- salary_in_usd: integer (nullable = true)\n",
            " |-- employee_residence: string (nullable = true)\n",
            " |-- remote_ratio: integer (nullable = true)\n",
            " |-- company_location: string (nullable = true)\n",
            " |-- company_size: string (nullable = true)\n",
            "\n"
          ]
        }
      ],
      "source": [
        "df.printSchema()"
      ]
    },
    {
      "cell_type": "markdown",
      "id": "connected-brother",
      "metadata": {
        "id": "connected-brother"
      },
      "source": [
        "create schema of this scv"
      ]
    },
    {
      "cell_type": "code",
      "execution_count": 4,
      "id": "progressive-dictionary",
      "metadata": {
        "id": "progressive-dictionary"
      },
      "outputs": [],
      "source": [
        "schema=StructType([\n",
        "    StructField(\"id\", IntegerType(), True),\n",
        "    StructField(\"work_year\", IntegerType(), True),\n",
        "    StructField(\"experience_level\", StringType(), True),\n",
        "    StructField(\"employment_type\", StringType(), True),\n",
        "    StructField(\"job_title\", StringType(), True),\n",
        "    StructField(\"salary\", IntegerType(), True),\n",
        "    StructField(\"salary_currency\", StringType(), True),\n",
        "    StructField(\"salary_in_usd\", IntegerType(), True),\n",
        "    StructField(\"employee_residence\", StringType(), True),\n",
        "    StructField(\"remote_ratio\", IntegerType(), True),\n",
        "    StructField(\"company_location\", StringType(), True),\n",
        "    StructField(\"company_siz\", StringType(), True)\n",
        "    ])"
      ]
    },
    {
      "cell_type": "markdown",
      "id": "auburn-sauce",
      "metadata": {
        "id": "auburn-sauce"
      },
      "source": [
        "restart kernel without cleaning output and after restarting you need to initialize SparkSession, after initialize start execute only cells from cell with schema=\n",
        "=StructType....\n",
        "To restart kernel click Kernel, Restart."
      ]
    },
    {
      "cell_type": "markdown",
      "id": "artistic-hospital",
      "metadata": {
        "id": "artistic-hospital"
      },
      "source": [
        "read ds_salaries with predefined schema and compare results from this cell and cell with inferSchema"
      ]
    },
    {
      "cell_type": "code",
      "execution_count": 5,
      "id": "literary-plaintiff",
      "metadata": {
        "colab": {
          "base_uri": "https://localhost:8080/"
        },
        "id": "literary-plaintiff",
        "outputId": "10bc2803-7c26-421c-ccb0-ea8436ad3595"
      },
      "outputs": [
        {
          "output_type": "stream",
          "name": "stdout",
          "text": [
            "CPU times: user 36.9 ms, sys: 4.68 ms, total: 41.6 ms\n",
            "Wall time: 3.45 s\n"
          ]
        }
      ],
      "source": [
        "%%time\n",
        "df_with_schema = spark.read.csv(\"./PySpark_Basics/ds_salaries.csv\", schema=schema, header=True)"
      ]
    },
    {
      "cell_type": "markdown",
      "id": "senior-joint",
      "metadata": {
        "id": "senior-joint"
      },
      "source": [
        "this happens because read operation is lazy(transformation), but if you use inferschema it start to be action that will create Spark Job, because Spark need to loop throw all file to check datatypes for all columns and this can harm to your code(if we compare to parquet, it will also go to check data types, but parquet provide meta information, so Spark will not go throw all file, he will just read meta information, but csv don't provide such meta information). Also header make Spark to create one more Spark Job to check first line\n",
        "to define name of columns and remember to skeep it when reading. Actual reading start when you will use first action. More about Spark Jobs you will see in next topic"
      ]
    },
    {
      "cell_type": "markdown",
      "id": "underlying-assurance",
      "metadata": {
        "id": "underlying-assurance"
      },
      "source": [
        "write schema of scv on screen one more time and compare with previous"
      ]
    },
    {
      "cell_type": "code",
      "execution_count": 6,
      "id": "solid-infection",
      "metadata": {
        "id": "solid-infection",
        "colab": {
          "base_uri": "https://localhost:8080/"
        },
        "outputId": "d960a974-9b4e-4d3d-d912-569802634071"
      },
      "outputs": [
        {
          "output_type": "stream",
          "name": "stdout",
          "text": [
            "root\n",
            " |-- id: integer (nullable = true)\n",
            " |-- work_year: integer (nullable = true)\n",
            " |-- experience_level: string (nullable = true)\n",
            " |-- employment_type: string (nullable = true)\n",
            " |-- job_title: string (nullable = true)\n",
            " |-- salary: integer (nullable = true)\n",
            " |-- salary_currency: string (nullable = true)\n",
            " |-- salary_in_usd: integer (nullable = true)\n",
            " |-- employee_residence: string (nullable = true)\n",
            " |-- remote_ratio: integer (nullable = true)\n",
            " |-- company_location: string (nullable = true)\n",
            " |-- company_siz: string (nullable = true)\n",
            "\n"
          ]
        }
      ],
      "source": [
        "df_with_schema.printSchema()"
      ]
    },
    {
      "cell_type": "markdown",
      "id": "close-water",
      "metadata": {
        "id": "close-water"
      },
      "source": [
        "now continue to work with one of the dataframes that you create"
      ]
    },
    {
      "cell_type": "markdown",
      "id": "piano-belgium",
      "metadata": {
        "id": "piano-belgium"
      },
      "source": [
        "print data in dataframe using df.show"
      ]
    },
    {
      "cell_type": "code",
      "execution_count": 7,
      "id": "legendary-alarm",
      "metadata": {
        "id": "legendary-alarm",
        "colab": {
          "base_uri": "https://localhost:8080/"
        },
        "outputId": "facd11f0-f2f0-414a-f12b-a43cad250eb9"
      },
      "outputs": [
        {
          "output_type": "stream",
          "name": "stdout",
          "text": [
            "+---+---------+----------------+---------------+--------------------+--------+---------------+-------------+------------------+------------+----------------+-----------+\n",
            "| id|work_year|experience_level|employment_type|           job_title|  salary|salary_currency|salary_in_usd|employee_residence|remote_ratio|company_location|company_siz|\n",
            "+---+---------+----------------+---------------+--------------------+--------+---------------+-------------+------------------+------------+----------------+-----------+\n",
            "|  0|     2020|              MI|             FT|      Data Scientist|   70000|            EUR|        79833|                DE|           0|              DE|          L|\n",
            "|  1|     2020|              SE|             FT|Machine Learning ...|  260000|            USD|       260000|                JP|           0|              JP|          S|\n",
            "|  2|     2020|              SE|             FT|   Big Data Engineer|   85000|            GBP|       109024|                GB|          50|              GB|          M|\n",
            "|  3|     2020|              MI|             FT|Product Data Analyst|   20000|            USD|        20000|                HN|           0|              HN|          S|\n",
            "|  4|     2020|              SE|             FT|Machine Learning ...|  150000|            USD|       150000|                US|          50|              US|          L|\n",
            "|  5|     2020|              EN|             FT|        Data Analyst|   72000|            USD|        72000|                US|         100|              US|          L|\n",
            "|  6|     2020|              SE|             FT| Lead Data Scientist|  190000|            USD|       190000|                US|         100|              US|          S|\n",
            "|  7|     2020|              MI|             FT|      Data Scientist|11000000|            HUF|        35735|                HU|          50|              HU|          L|\n",
            "|  8|     2020|              MI|             FT|Business Data Ana...|  135000|            USD|       135000|                US|         100|              US|          L|\n",
            "|  9|     2020|              SE|             FT|  Lead Data Engineer|  125000|            USD|       125000|                NZ|          50|              NZ|          S|\n",
            "| 10|     2020|              EN|             FT|      Data Scientist|   45000|            EUR|        51321|                FR|           0|              FR|          S|\n",
            "| 11|     2020|              MI|             FT|      Data Scientist| 3000000|            INR|        40481|                IN|           0|              IN|          L|\n",
            "| 12|     2020|              EN|             FT|      Data Scientist|   35000|            EUR|        39916|                FR|           0|              FR|          M|\n",
            "| 13|     2020|              MI|             FT|   Lead Data Analyst|   87000|            USD|        87000|                US|         100|              US|          L|\n",
            "| 14|     2020|              MI|             FT|        Data Analyst|   85000|            USD|        85000|                US|         100|              US|          L|\n",
            "| 15|     2020|              MI|             FT|        Data Analyst|    8000|            USD|         8000|                PK|          50|              PK|          L|\n",
            "| 16|     2020|              EN|             FT|       Data Engineer| 4450000|            JPY|        41689|                JP|         100|              JP|          S|\n",
            "| 17|     2020|              SE|             FT|   Big Data Engineer|  100000|            EUR|       114047|                PL|         100|              GB|          S|\n",
            "| 18|     2020|              EN|             FT|Data Science Cons...|  423000|            INR|         5707|                IN|          50|              IN|          M|\n",
            "| 19|     2020|              MI|             FT|  Lead Data Engineer|   56000|            USD|        56000|                PT|         100|              US|          M|\n",
            "+---+---------+----------------+---------------+--------------------+--------+---------------+-------------+------------------+------------+----------------+-----------+\n",
            "only showing top 20 rows\n",
            "\n"
          ]
        }
      ],
      "source": [
        "df_with_schema.show()"
      ]
    },
    {
      "cell_type": "markdown",
      "id": "tamil-medium",
      "metadata": {
        "id": "tamil-medium"
      },
      "source": [
        "print data in dataframe using display(df.toPandas())"
      ]
    },
    {
      "cell_type": "code",
      "execution_count": 8,
      "id": "connected-dryer",
      "metadata": {
        "id": "connected-dryer",
        "colab": {
          "base_uri": "https://localhost:8080/",
          "height": 669
        },
        "outputId": "bc9a9a81-f091-4e79-b60d-6704bc0f7faf"
      },
      "outputs": [
        {
          "output_type": "execute_result",
          "data": {
            "text/plain": [
              "      id  work_year experience_level employment_type  \\\n",
              "0      0       2020               MI              FT   \n",
              "1      1       2020               SE              FT   \n",
              "2      2       2020               SE              FT   \n",
              "3      3       2020               MI              FT   \n",
              "4      4       2020               SE              FT   \n",
              "..   ...        ...              ...             ...   \n",
              "602  602       2022               SE              FT   \n",
              "603  603       2022               SE              FT   \n",
              "604  604       2022               SE              FT   \n",
              "605  605       2022               SE              FT   \n",
              "606  606       2022               MI              FT   \n",
              "\n",
              "                      job_title  salary salary_currency  salary_in_usd  \\\n",
              "0                Data Scientist   70000             EUR          79833   \n",
              "1    Machine Learning Scientist  260000             USD         260000   \n",
              "2             Big Data Engineer   85000             GBP         109024   \n",
              "3          Product Data Analyst   20000             USD          20000   \n",
              "4     Machine Learning Engineer  150000             USD         150000   \n",
              "..                          ...     ...             ...            ...   \n",
              "602               Data Engineer  154000             USD         154000   \n",
              "603               Data Engineer  126000             USD         126000   \n",
              "604                Data Analyst  129000             USD         129000   \n",
              "605                Data Analyst  150000             USD         150000   \n",
              "606                AI Scientist  200000             USD         200000   \n",
              "\n",
              "    employee_residence  remote_ratio company_location company_siz  \n",
              "0                   DE             0               DE           L  \n",
              "1                   JP             0               JP           S  \n",
              "2                   GB            50               GB           M  \n",
              "3                   HN             0               HN           S  \n",
              "4                   US            50               US           L  \n",
              "..                 ...           ...              ...         ...  \n",
              "602                 US           100               US           M  \n",
              "603                 US           100               US           M  \n",
              "604                 US             0               US           M  \n",
              "605                 US           100               US           M  \n",
              "606                 IN           100               US           L  \n",
              "\n",
              "[607 rows x 12 columns]"
            ],
            "text/html": [
              "\n",
              "  <div id=\"df-363b0c9b-79f8-4899-ad50-cdde195df6d1\" class=\"colab-df-container\">\n",
              "    <div>\n",
              "<style scoped>\n",
              "    .dataframe tbody tr th:only-of-type {\n",
              "        vertical-align: middle;\n",
              "    }\n",
              "\n",
              "    .dataframe tbody tr th {\n",
              "        vertical-align: top;\n",
              "    }\n",
              "\n",
              "    .dataframe thead th {\n",
              "        text-align: right;\n",
              "    }\n",
              "</style>\n",
              "<table border=\"1\" class=\"dataframe\">\n",
              "  <thead>\n",
              "    <tr style=\"text-align: right;\">\n",
              "      <th></th>\n",
              "      <th>id</th>\n",
              "      <th>work_year</th>\n",
              "      <th>experience_level</th>\n",
              "      <th>employment_type</th>\n",
              "      <th>job_title</th>\n",
              "      <th>salary</th>\n",
              "      <th>salary_currency</th>\n",
              "      <th>salary_in_usd</th>\n",
              "      <th>employee_residence</th>\n",
              "      <th>remote_ratio</th>\n",
              "      <th>company_location</th>\n",
              "      <th>company_siz</th>\n",
              "    </tr>\n",
              "  </thead>\n",
              "  <tbody>\n",
              "    <tr>\n",
              "      <th>0</th>\n",
              "      <td>0</td>\n",
              "      <td>2020</td>\n",
              "      <td>MI</td>\n",
              "      <td>FT</td>\n",
              "      <td>Data Scientist</td>\n",
              "      <td>70000</td>\n",
              "      <td>EUR</td>\n",
              "      <td>79833</td>\n",
              "      <td>DE</td>\n",
              "      <td>0</td>\n",
              "      <td>DE</td>\n",
              "      <td>L</td>\n",
              "    </tr>\n",
              "    <tr>\n",
              "      <th>1</th>\n",
              "      <td>1</td>\n",
              "      <td>2020</td>\n",
              "      <td>SE</td>\n",
              "      <td>FT</td>\n",
              "      <td>Machine Learning Scientist</td>\n",
              "      <td>260000</td>\n",
              "      <td>USD</td>\n",
              "      <td>260000</td>\n",
              "      <td>JP</td>\n",
              "      <td>0</td>\n",
              "      <td>JP</td>\n",
              "      <td>S</td>\n",
              "    </tr>\n",
              "    <tr>\n",
              "      <th>2</th>\n",
              "      <td>2</td>\n",
              "      <td>2020</td>\n",
              "      <td>SE</td>\n",
              "      <td>FT</td>\n",
              "      <td>Big Data Engineer</td>\n",
              "      <td>85000</td>\n",
              "      <td>GBP</td>\n",
              "      <td>109024</td>\n",
              "      <td>GB</td>\n",
              "      <td>50</td>\n",
              "      <td>GB</td>\n",
              "      <td>M</td>\n",
              "    </tr>\n",
              "    <tr>\n",
              "      <th>3</th>\n",
              "      <td>3</td>\n",
              "      <td>2020</td>\n",
              "      <td>MI</td>\n",
              "      <td>FT</td>\n",
              "      <td>Product Data Analyst</td>\n",
              "      <td>20000</td>\n",
              "      <td>USD</td>\n",
              "      <td>20000</td>\n",
              "      <td>HN</td>\n",
              "      <td>0</td>\n",
              "      <td>HN</td>\n",
              "      <td>S</td>\n",
              "    </tr>\n",
              "    <tr>\n",
              "      <th>4</th>\n",
              "      <td>4</td>\n",
              "      <td>2020</td>\n",
              "      <td>SE</td>\n",
              "      <td>FT</td>\n",
              "      <td>Machine Learning Engineer</td>\n",
              "      <td>150000</td>\n",
              "      <td>USD</td>\n",
              "      <td>150000</td>\n",
              "      <td>US</td>\n",
              "      <td>50</td>\n",
              "      <td>US</td>\n",
              "      <td>L</td>\n",
              "    </tr>\n",
              "    <tr>\n",
              "      <th>...</th>\n",
              "      <td>...</td>\n",
              "      <td>...</td>\n",
              "      <td>...</td>\n",
              "      <td>...</td>\n",
              "      <td>...</td>\n",
              "      <td>...</td>\n",
              "      <td>...</td>\n",
              "      <td>...</td>\n",
              "      <td>...</td>\n",
              "      <td>...</td>\n",
              "      <td>...</td>\n",
              "      <td>...</td>\n",
              "    </tr>\n",
              "    <tr>\n",
              "      <th>602</th>\n",
              "      <td>602</td>\n",
              "      <td>2022</td>\n",
              "      <td>SE</td>\n",
              "      <td>FT</td>\n",
              "      <td>Data Engineer</td>\n",
              "      <td>154000</td>\n",
              "      <td>USD</td>\n",
              "      <td>154000</td>\n",
              "      <td>US</td>\n",
              "      <td>100</td>\n",
              "      <td>US</td>\n",
              "      <td>M</td>\n",
              "    </tr>\n",
              "    <tr>\n",
              "      <th>603</th>\n",
              "      <td>603</td>\n",
              "      <td>2022</td>\n",
              "      <td>SE</td>\n",
              "      <td>FT</td>\n",
              "      <td>Data Engineer</td>\n",
              "      <td>126000</td>\n",
              "      <td>USD</td>\n",
              "      <td>126000</td>\n",
              "      <td>US</td>\n",
              "      <td>100</td>\n",
              "      <td>US</td>\n",
              "      <td>M</td>\n",
              "    </tr>\n",
              "    <tr>\n",
              "      <th>604</th>\n",
              "      <td>604</td>\n",
              "      <td>2022</td>\n",
              "      <td>SE</td>\n",
              "      <td>FT</td>\n",
              "      <td>Data Analyst</td>\n",
              "      <td>129000</td>\n",
              "      <td>USD</td>\n",
              "      <td>129000</td>\n",
              "      <td>US</td>\n",
              "      <td>0</td>\n",
              "      <td>US</td>\n",
              "      <td>M</td>\n",
              "    </tr>\n",
              "    <tr>\n",
              "      <th>605</th>\n",
              "      <td>605</td>\n",
              "      <td>2022</td>\n",
              "      <td>SE</td>\n",
              "      <td>FT</td>\n",
              "      <td>Data Analyst</td>\n",
              "      <td>150000</td>\n",
              "      <td>USD</td>\n",
              "      <td>150000</td>\n",
              "      <td>US</td>\n",
              "      <td>100</td>\n",
              "      <td>US</td>\n",
              "      <td>M</td>\n",
              "    </tr>\n",
              "    <tr>\n",
              "      <th>606</th>\n",
              "      <td>606</td>\n",
              "      <td>2022</td>\n",
              "      <td>MI</td>\n",
              "      <td>FT</td>\n",
              "      <td>AI Scientist</td>\n",
              "      <td>200000</td>\n",
              "      <td>USD</td>\n",
              "      <td>200000</td>\n",
              "      <td>IN</td>\n",
              "      <td>100</td>\n",
              "      <td>US</td>\n",
              "      <td>L</td>\n",
              "    </tr>\n",
              "  </tbody>\n",
              "</table>\n",
              "<p>607 rows × 12 columns</p>\n",
              "</div>\n",
              "    <div class=\"colab-df-buttons\">\n",
              "\n",
              "  <div class=\"colab-df-container\">\n",
              "    <button class=\"colab-df-convert\" onclick=\"convertToInteractive('df-363b0c9b-79f8-4899-ad50-cdde195df6d1')\"\n",
              "            title=\"Convert this dataframe to an interactive table.\"\n",
              "            style=\"display:none;\">\n",
              "\n",
              "  <svg xmlns=\"http://www.w3.org/2000/svg\" height=\"24px\" viewBox=\"0 -960 960 960\">\n",
              "    <path d=\"M120-120v-720h720v720H120Zm60-500h600v-160H180v160Zm220 220h160v-160H400v160Zm0 220h160v-160H400v160ZM180-400h160v-160H180v160Zm440 0h160v-160H620v160ZM180-180h160v-160H180v160Zm440 0h160v-160H620v160Z\"/>\n",
              "  </svg>\n",
              "    </button>\n",
              "\n",
              "  <style>\n",
              "    .colab-df-container {\n",
              "      display:flex;\n",
              "      gap: 12px;\n",
              "    }\n",
              "\n",
              "    .colab-df-convert {\n",
              "      background-color: #E8F0FE;\n",
              "      border: none;\n",
              "      border-radius: 50%;\n",
              "      cursor: pointer;\n",
              "      display: none;\n",
              "      fill: #1967D2;\n",
              "      height: 32px;\n",
              "      padding: 0 0 0 0;\n",
              "      width: 32px;\n",
              "    }\n",
              "\n",
              "    .colab-df-convert:hover {\n",
              "      background-color: #E2EBFA;\n",
              "      box-shadow: 0px 1px 2px rgba(60, 64, 67, 0.3), 0px 1px 3px 1px rgba(60, 64, 67, 0.15);\n",
              "      fill: #174EA6;\n",
              "    }\n",
              "\n",
              "    .colab-df-buttons div {\n",
              "      margin-bottom: 4px;\n",
              "    }\n",
              "\n",
              "    [theme=dark] .colab-df-convert {\n",
              "      background-color: #3B4455;\n",
              "      fill: #D2E3FC;\n",
              "    }\n",
              "\n",
              "    [theme=dark] .colab-df-convert:hover {\n",
              "      background-color: #434B5C;\n",
              "      box-shadow: 0px 1px 3px 1px rgba(0, 0, 0, 0.15);\n",
              "      filter: drop-shadow(0px 1px 2px rgba(0, 0, 0, 0.3));\n",
              "      fill: #FFFFFF;\n",
              "    }\n",
              "  </style>\n",
              "\n",
              "    <script>\n",
              "      const buttonEl =\n",
              "        document.querySelector('#df-363b0c9b-79f8-4899-ad50-cdde195df6d1 button.colab-df-convert');\n",
              "      buttonEl.style.display =\n",
              "        google.colab.kernel.accessAllowed ? 'block' : 'none';\n",
              "\n",
              "      async function convertToInteractive(key) {\n",
              "        const element = document.querySelector('#df-363b0c9b-79f8-4899-ad50-cdde195df6d1');\n",
              "        const dataTable =\n",
              "          await google.colab.kernel.invokeFunction('convertToInteractive',\n",
              "                                                    [key], {});\n",
              "        if (!dataTable) return;\n",
              "\n",
              "        const docLinkHtml = 'Like what you see? Visit the ' +\n",
              "          '<a target=\"_blank\" href=https://colab.research.google.com/notebooks/data_table.ipynb>data table notebook</a>'\n",
              "          + ' to learn more about interactive tables.';\n",
              "        element.innerHTML = '';\n",
              "        dataTable['output_type'] = 'display_data';\n",
              "        await google.colab.output.renderOutput(dataTable, element);\n",
              "        const docLink = document.createElement('div');\n",
              "        docLink.innerHTML = docLinkHtml;\n",
              "        element.appendChild(docLink);\n",
              "      }\n",
              "    </script>\n",
              "  </div>\n",
              "\n",
              "\n",
              "<div id=\"df-23f60986-2dff-415c-a02d-cf889dea5b35\">\n",
              "  <button class=\"colab-df-quickchart\" onclick=\"quickchart('df-23f60986-2dff-415c-a02d-cf889dea5b35')\"\n",
              "            title=\"Suggest charts\"\n",
              "            style=\"display:none;\">\n",
              "\n",
              "<svg xmlns=\"http://www.w3.org/2000/svg\" height=\"24px\"viewBox=\"0 0 24 24\"\n",
              "     width=\"24px\">\n",
              "    <g>\n",
              "        <path d=\"M19 3H5c-1.1 0-2 .9-2 2v14c0 1.1.9 2 2 2h14c1.1 0 2-.9 2-2V5c0-1.1-.9-2-2-2zM9 17H7v-7h2v7zm4 0h-2V7h2v10zm4 0h-2v-4h2v4z\"/>\n",
              "    </g>\n",
              "</svg>\n",
              "  </button>\n",
              "\n",
              "<style>\n",
              "  .colab-df-quickchart {\n",
              "      --bg-color: #E8F0FE;\n",
              "      --fill-color: #1967D2;\n",
              "      --hover-bg-color: #E2EBFA;\n",
              "      --hover-fill-color: #174EA6;\n",
              "      --disabled-fill-color: #AAA;\n",
              "      --disabled-bg-color: #DDD;\n",
              "  }\n",
              "\n",
              "  [theme=dark] .colab-df-quickchart {\n",
              "      --bg-color: #3B4455;\n",
              "      --fill-color: #D2E3FC;\n",
              "      --hover-bg-color: #434B5C;\n",
              "      --hover-fill-color: #FFFFFF;\n",
              "      --disabled-bg-color: #3B4455;\n",
              "      --disabled-fill-color: #666;\n",
              "  }\n",
              "\n",
              "  .colab-df-quickchart {\n",
              "    background-color: var(--bg-color);\n",
              "    border: none;\n",
              "    border-radius: 50%;\n",
              "    cursor: pointer;\n",
              "    display: none;\n",
              "    fill: var(--fill-color);\n",
              "    height: 32px;\n",
              "    padding: 0;\n",
              "    width: 32px;\n",
              "  }\n",
              "\n",
              "  .colab-df-quickchart:hover {\n",
              "    background-color: var(--hover-bg-color);\n",
              "    box-shadow: 0 1px 2px rgba(60, 64, 67, 0.3), 0 1px 3px 1px rgba(60, 64, 67, 0.15);\n",
              "    fill: var(--button-hover-fill-color);\n",
              "  }\n",
              "\n",
              "  .colab-df-quickchart-complete:disabled,\n",
              "  .colab-df-quickchart-complete:disabled:hover {\n",
              "    background-color: var(--disabled-bg-color);\n",
              "    fill: var(--disabled-fill-color);\n",
              "    box-shadow: none;\n",
              "  }\n",
              "\n",
              "  .colab-df-spinner {\n",
              "    border: 2px solid var(--fill-color);\n",
              "    border-color: transparent;\n",
              "    border-bottom-color: var(--fill-color);\n",
              "    animation:\n",
              "      spin 1s steps(1) infinite;\n",
              "  }\n",
              "\n",
              "  @keyframes spin {\n",
              "    0% {\n",
              "      border-color: transparent;\n",
              "      border-bottom-color: var(--fill-color);\n",
              "      border-left-color: var(--fill-color);\n",
              "    }\n",
              "    20% {\n",
              "      border-color: transparent;\n",
              "      border-left-color: var(--fill-color);\n",
              "      border-top-color: var(--fill-color);\n",
              "    }\n",
              "    30% {\n",
              "      border-color: transparent;\n",
              "      border-left-color: var(--fill-color);\n",
              "      border-top-color: var(--fill-color);\n",
              "      border-right-color: var(--fill-color);\n",
              "    }\n",
              "    40% {\n",
              "      border-color: transparent;\n",
              "      border-right-color: var(--fill-color);\n",
              "      border-top-color: var(--fill-color);\n",
              "    }\n",
              "    60% {\n",
              "      border-color: transparent;\n",
              "      border-right-color: var(--fill-color);\n",
              "    }\n",
              "    80% {\n",
              "      border-color: transparent;\n",
              "      border-right-color: var(--fill-color);\n",
              "      border-bottom-color: var(--fill-color);\n",
              "    }\n",
              "    90% {\n",
              "      border-color: transparent;\n",
              "      border-bottom-color: var(--fill-color);\n",
              "    }\n",
              "  }\n",
              "</style>\n",
              "\n",
              "  <script>\n",
              "    async function quickchart(key) {\n",
              "      const quickchartButtonEl =\n",
              "        document.querySelector('#' + key + ' button');\n",
              "      quickchartButtonEl.disabled = true;  // To prevent multiple clicks.\n",
              "      quickchartButtonEl.classList.add('colab-df-spinner');\n",
              "      try {\n",
              "        const charts = await google.colab.kernel.invokeFunction(\n",
              "            'suggestCharts', [key], {});\n",
              "      } catch (error) {\n",
              "        console.error('Error during call to suggestCharts:', error);\n",
              "      }\n",
              "      quickchartButtonEl.classList.remove('colab-df-spinner');\n",
              "      quickchartButtonEl.classList.add('colab-df-quickchart-complete');\n",
              "    }\n",
              "    (() => {\n",
              "      let quickchartButtonEl =\n",
              "        document.querySelector('#df-23f60986-2dff-415c-a02d-cf889dea5b35 button');\n",
              "      quickchartButtonEl.style.display =\n",
              "        google.colab.kernel.accessAllowed ? 'block' : 'none';\n",
              "    })();\n",
              "  </script>\n",
              "</div>\n",
              "    </div>\n",
              "  </div>\n"
            ],
            "application/vnd.google.colaboratory.intrinsic+json": {
              "type": "dataframe",
              "summary": "{\n  \"name\": \"df_with_schema\",\n  \"rows\": 607,\n  \"fields\": [\n    {\n      \"column\": \"id\",\n      \"properties\": {\n        \"dtype\": \"int32\",\n        \"num_unique_values\": 607,\n        \"samples\": [\n          563,\n          289,\n          76\n        ],\n        \"semantic_type\": \"\",\n        \"description\": \"\"\n      }\n    },\n    {\n      \"column\": \"work_year\",\n      \"properties\": {\n        \"dtype\": \"int32\",\n        \"num_unique_values\": 3,\n        \"samples\": [\n          2020,\n          2021,\n          2022\n        ],\n        \"semantic_type\": \"\",\n        \"description\": \"\"\n      }\n    },\n    {\n      \"column\": \"experience_level\",\n      \"properties\": {\n        \"dtype\": \"category\",\n        \"num_unique_values\": 4,\n        \"samples\": [\n          \"SE\",\n          \"EX\",\n          \"MI\"\n        ],\n        \"semantic_type\": \"\",\n        \"description\": \"\"\n      }\n    },\n    {\n      \"column\": \"employment_type\",\n      \"properties\": {\n        \"dtype\": \"category\",\n        \"num_unique_values\": 4,\n        \"samples\": [\n          \"CT\",\n          \"FL\",\n          \"FT\"\n        ],\n        \"semantic_type\": \"\",\n        \"description\": \"\"\n      }\n    },\n    {\n      \"column\": \"job_title\",\n      \"properties\": {\n        \"dtype\": \"category\",\n        \"num_unique_values\": 50,\n        \"samples\": [\n          \"Director of Data Science\",\n          \"Data Architect\",\n          \"Computer Vision Software Engineer\"\n        ],\n        \"semantic_type\": \"\",\n        \"description\": \"\"\n      }\n    },\n    {\n      \"column\": \"salary\",\n      \"properties\": {\n        \"dtype\": \"int32\",\n        \"num_unique_values\": 272,\n        \"samples\": [\n          65000,\n          18000,\n          82500\n        ],\n        \"semantic_type\": \"\",\n        \"description\": \"\"\n      }\n    },\n    {\n      \"column\": \"salary_currency\",\n      \"properties\": {\n        \"dtype\": \"category\",\n        \"num_unique_values\": 17,\n        \"samples\": [\n          \"EUR\",\n          \"USD\",\n          \"JPY\"\n        ],\n        \"semantic_type\": \"\",\n        \"description\": \"\"\n      }\n    },\n    {\n      \"column\": \"salary_in_usd\",\n      \"properties\": {\n        \"dtype\": \"int32\",\n        \"num_unique_values\": 369,\n        \"samples\": [\n          64849,\n          450000,\n          8000\n        ],\n        \"semantic_type\": \"\",\n        \"description\": \"\"\n      }\n    },\n    {\n      \"column\": \"employee_residence\",\n      \"properties\": {\n        \"dtype\": \"category\",\n        \"num_unique_values\": 57,\n        \"samples\": [\n          \"DE\",\n          \"HU\",\n          \"VN\"\n        ],\n        \"semantic_type\": \"\",\n        \"description\": \"\"\n      }\n    },\n    {\n      \"column\": \"remote_ratio\",\n      \"properties\": {\n        \"dtype\": \"int32\",\n        \"num_unique_values\": 3,\n        \"samples\": [\n          0,\n          50,\n          100\n        ],\n        \"semantic_type\": \"\",\n        \"description\": \"\"\n      }\n    },\n    {\n      \"column\": \"company_location\",\n      \"properties\": {\n        \"dtype\": \"category\",\n        \"num_unique_values\": 50,\n        \"samples\": [\n          \"NL\",\n          \"SI\",\n          \"UA\"\n        ],\n        \"semantic_type\": \"\",\n        \"description\": \"\"\n      }\n    },\n    {\n      \"column\": \"company_siz\",\n      \"properties\": {\n        \"dtype\": \"category\",\n        \"num_unique_values\": 3,\n        \"samples\": [\n          \"L\",\n          \"S\",\n          \"M\"\n        ],\n        \"semantic_type\": \"\",\n        \"description\": \"\"\n      }\n    }\n  ]\n}"
            }
          },
          "metadata": {},
          "execution_count": 8
        }
      ],
      "source": [
        "df_with_schema.toPandas()"
      ]
    },
    {
      "cell_type": "markdown",
      "id": "opponent-gazette",
      "metadata": {
        "id": "opponent-gazette"
      },
      "source": [
        "create df_job_title that consists from all job_titles without duplicates"
      ]
    },
    {
      "cell_type": "code",
      "execution_count": 9,
      "id": "friendly-cartridge",
      "metadata": {
        "id": "friendly-cartridge"
      },
      "outputs": [],
      "source": [
        "df_job_title = df_with_schema.select(\"job_title\").distinct()\n"
      ]
    },
    {
      "cell_type": "code",
      "source": [
        "df_with_schema.select(\"job_title\").count()"
      ],
      "metadata": {
        "colab": {
          "base_uri": "https://localhost:8080/"
        },
        "id": "0b5bWSawZkyp",
        "outputId": "62811f18-2a1b-4716-cdf7-a1275c0ebc68"
      },
      "id": "0b5bWSawZkyp",
      "execution_count": 10,
      "outputs": [
        {
          "output_type": "execute_result",
          "data": {
            "text/plain": [
              "607"
            ]
          },
          "metadata": {},
          "execution_count": 10
        }
      ]
    },
    {
      "cell_type": "code",
      "source": [
        "df_job_title.count()"
      ],
      "metadata": {
        "colab": {
          "base_uri": "https://localhost:8080/"
        },
        "id": "L9sV5EkBZuoR",
        "outputId": "134655d4-1bb5-4076-a25e-7418b7b9237a"
      },
      "id": "L9sV5EkBZuoR",
      "execution_count": 11,
      "outputs": [
        {
          "output_type": "execute_result",
          "data": {
            "text/plain": [
              "50"
            ]
          },
          "metadata": {},
          "execution_count": 11
        }
      ]
    },
    {
      "cell_type": "markdown",
      "id": "offshore-architecture",
      "metadata": {
        "id": "offshore-architecture"
      },
      "source": [
        "print all rows from df_job_titles without truncating jobs"
      ]
    },
    {
      "cell_type": "code",
      "execution_count": 12,
      "id": "asian-edition",
      "metadata": {
        "id": "asian-edition",
        "colab": {
          "base_uri": "https://localhost:8080/"
        },
        "outputId": "7400d5cc-3686-4216-db46-9ef9d9c97a72"
      },
      "outputs": [
        {
          "output_type": "stream",
          "name": "stdout",
          "text": [
            "+----------------------------------------+\n",
            "|job_title                               |\n",
            "+----------------------------------------+\n",
            "|3D Computer Vision Researcher           |\n",
            "|Lead Data Engineer                      |\n",
            "|Head of Machine Learning                |\n",
            "|Data Specialist                         |\n",
            "|Data Analytics Lead                     |\n",
            "|Machine Learning Scientist              |\n",
            "|Lead Data Analyst                       |\n",
            "|Data Engineering Manager                |\n",
            "|Staff Data Scientist                    |\n",
            "|ETL Developer                           |\n",
            "|Director of Data Engineering            |\n",
            "|Product Data Analyst                    |\n",
            "|Principal Data Scientist                |\n",
            "|AI Scientist                            |\n",
            "|Director of Data Science                |\n",
            "|Machine Learning Engineer               |\n",
            "|Lead Data Scientist                     |\n",
            "|Machine Learning Infrastructure Engineer|\n",
            "|Data Science Engineer                   |\n",
            "|Machine Learning Manager                |\n",
            "+----------------------------------------+\n",
            "only showing top 20 rows\n",
            "\n"
          ]
        }
      ],
      "source": [
        "df_job_title.show(truncate=False)"
      ]
    },
    {
      "cell_type": "markdown",
      "id": "interim-pharmacy",
      "metadata": {
        "id": "interim-pharmacy"
      },
      "source": [
        "create  df_analytic that will consists from max, avg, min USD salaries for all job_titles using groupBy. name of fields is avg_salary, min_salary, max_salary"
      ]
    },
    {
      "cell_type": "code",
      "execution_count": 13,
      "id": "naval-roller",
      "metadata": {
        "id": "naval-roller"
      },
      "outputs": [],
      "source": [
        "df_analytic = df_with_schema.groupBy(\"job_title\") \\\n",
        "  .agg(max(\"salary_in_usd\").alias(\"max_salary\"),\n",
        "       min(\"salary_in_usd\").alias(\"min_salary\"),\n",
        "       avg(\"salary_in_usd\").alias(\"avg_salary\"))\n"
      ]
    },
    {
      "cell_type": "markdown",
      "id": "french-pledge",
      "metadata": {
        "id": "french-pledge"
      },
      "source": [
        "print all rows from df_analytic without trancating jobs"
      ]
    },
    {
      "cell_type": "code",
      "execution_count": 14,
      "id": "bacterial-depression",
      "metadata": {
        "id": "bacterial-depression",
        "colab": {
          "base_uri": "https://localhost:8080/"
        },
        "outputId": "119af00b-e703-46fd-c035-0286927474ec"
      },
      "outputs": [
        {
          "output_type": "stream",
          "name": "stdout",
          "text": [
            "+----------------------------------------+----------+----------+------------------+\n",
            "|job_title                               |max_salary|min_salary|avg_salary        |\n",
            "+----------------------------------------+----------+----------+------------------+\n",
            "|3D Computer Vision Researcher           |5409      |5409      |5409.0            |\n",
            "|Lead Data Engineer                      |276000    |56000     |139724.5          |\n",
            "|Head of Machine Learning                |79039     |79039     |79039.0           |\n",
            "|Data Specialist                         |165000    |165000    |165000.0          |\n",
            "|Data Analytics Lead                     |405000    |405000    |405000.0          |\n",
            "|Machine Learning Scientist              |260000    |12000     |158412.5          |\n",
            "|Lead Data Analyst                       |170000    |19609     |92203.0           |\n",
            "|Data Engineering Manager                |174000    |59303     |123227.2          |\n",
            "|Staff Data Scientist                    |105000    |105000    |105000.0          |\n",
            "|ETL Developer                           |54957     |54957     |54957.0           |\n",
            "|Director of Data Engineering            |200000    |113476    |156738.0          |\n",
            "|Product Data Analyst                    |20000     |6072      |13036.0           |\n",
            "|Principal Data Scientist                |416000    |148261    |215242.42857142858|\n",
            "|AI Scientist                            |200000    |12000     |66135.57142857143 |\n",
            "|Director of Data Science                |325000    |130026    |195074.0          |\n",
            "|Machine Learning Engineer               |250000    |20000     |104880.14634146342|\n",
            "|Lead Data Scientist                     |190000    |40570     |115190.0          |\n",
            "|Machine Learning Infrastructure Engineer|195000    |50180     |101145.0          |\n",
            "|Data Science Engineer                   |127221    |40189     |75803.33333333333 |\n",
            "|Machine Learning Manager                |117104    |117104    |117104.0          |\n",
            "+----------------------------------------+----------+----------+------------------+\n",
            "only showing top 20 rows\n",
            "\n"
          ]
        }
      ],
      "source": [
        "df_analytic.show(truncate=False)"
      ]
    },
    {
      "cell_type": "markdown",
      "id": "hazardous-color",
      "metadata": {
        "id": "hazardous-color"
      },
      "source": [
        "now you need to add in df_analytic column row_id, that will show order of all job_titles depending on avg salary. they should be descending"
      ]
    },
    {
      "cell_type": "code",
      "execution_count": 15,
      "id": "nearby-treasurer",
      "metadata": {
        "id": "nearby-treasurer"
      },
      "outputs": [],
      "source": [
        "windowSpec = Window.orderBy(desc(\"avg_salary\"))\n",
        "df_analytic = df_analytic.withColumn(\"row_id\", row_number().over(windowSpec))"
      ]
    },
    {
      "cell_type": "markdown",
      "id": "documented-catalog",
      "metadata": {
        "id": "documented-catalog"
      },
      "source": [
        "print all data from df_analytic"
      ]
    },
    {
      "cell_type": "code",
      "execution_count": 16,
      "id": "confirmed-monitoring",
      "metadata": {
        "id": "confirmed-monitoring",
        "colab": {
          "base_uri": "https://localhost:8080/"
        },
        "outputId": "4a36484a-3270-4cad-ffa5-04550dcb4423"
      },
      "outputs": [
        {
          "output_type": "stream",
          "name": "stdout",
          "text": [
            "+----------------------------------+----------+----------+------------------+------+\n",
            "|job_title                         |max_salary|min_salary|avg_salary        |row_id|\n",
            "+----------------------------------+----------+----------+------------------+------+\n",
            "|Data Analytics Lead               |405000    |405000    |405000.0          |1     |\n",
            "|Principal Data Engineer           |600000    |185000    |328333.3333333333 |2     |\n",
            "|Financial Data Analyst            |450000    |100000    |275000.0          |3     |\n",
            "|Principal Data Scientist          |416000    |148261    |215242.42857142858|4     |\n",
            "|Director of Data Science          |325000    |130026    |195074.0          |5     |\n",
            "|Data Architect                    |266400    |90700     |177873.9090909091 |6     |\n",
            "|Applied Data Scientist            |380000    |54238     |175655.0          |7     |\n",
            "|Analytics Engineer                |205300    |135000    |175000.0          |8     |\n",
            "|Data Specialist                   |165000    |165000    |165000.0          |9     |\n",
            "|Head of Data                      |235000    |32974     |160162.6          |10    |\n",
            "|Machine Learning Scientist        |260000    |12000     |158412.5          |11    |\n",
            "|Data Science Manager              |241000    |54094     |158328.5          |12    |\n",
            "|Director of Data Engineering      |200000    |113476    |156738.0          |13    |\n",
            "|Head of Data Science              |224000    |85000     |146718.75         |14    |\n",
            "|Applied Machine Learning Scientist|423000    |31875     |142068.75         |15    |\n",
            "|Lead Data Engineer                |276000    |56000     |139724.5          |16    |\n",
            "|Data Analytics Manager            |150260    |105400    |127134.28571428571|17    |\n",
            "|Cloud Data Engineer               |160000    |89294     |124647.0          |18    |\n",
            "|Data Engineering Manager          |174000    |59303     |123227.2          |19    |\n",
            "|Principal Data Analyst            |170000    |75000     |122500.0          |20    |\n",
            "+----------------------------------+----------+----------+------------------+------+\n",
            "only showing top 20 rows\n",
            "\n"
          ]
        }
      ],
      "source": [
        "df_analytic.show(truncate=False)"
      ]
    },
    {
      "cell_type": "markdown",
      "id": "satellite-quarter",
      "metadata": {
        "id": "satellite-quarter"
      },
      "source": [
        "it isn't beautifull, so we need to put now row_id on first place in df_analytic"
      ]
    },
    {
      "cell_type": "code",
      "execution_count": 17,
      "id": "ranging-tribune",
      "metadata": {
        "id": "ranging-tribune"
      },
      "outputs": [],
      "source": [
        "df_analytic = df_analytic.select(\"row_id\", \"job_title\", \"avg_salary\", \"min_salary\", \"max_salary\")"
      ]
    },
    {
      "cell_type": "markdown",
      "id": "reliable-amsterdam",
      "metadata": {
        "id": "reliable-amsterdam"
      },
      "source": [
        "print df_analytic now"
      ]
    },
    {
      "cell_type": "code",
      "execution_count": 18,
      "id": "classical-biology",
      "metadata": {
        "id": "classical-biology",
        "colab": {
          "base_uri": "https://localhost:8080/"
        },
        "outputId": "4ecf60f0-5b4f-4956-bebd-7baad54625b0"
      },
      "outputs": [
        {
          "output_type": "stream",
          "name": "stdout",
          "text": [
            "+------+----------------------------------+------------------+----------+----------+\n",
            "|row_id|job_title                         |avg_salary        |min_salary|max_salary|\n",
            "+------+----------------------------------+------------------+----------+----------+\n",
            "|1     |Data Analytics Lead               |405000.0          |405000    |405000    |\n",
            "|2     |Principal Data Engineer           |328333.3333333333 |185000    |600000    |\n",
            "|3     |Financial Data Analyst            |275000.0          |100000    |450000    |\n",
            "|4     |Principal Data Scientist          |215242.42857142858|148261    |416000    |\n",
            "|5     |Director of Data Science          |195074.0          |130026    |325000    |\n",
            "|6     |Data Architect                    |177873.9090909091 |90700     |266400    |\n",
            "|7     |Applied Data Scientist            |175655.0          |54238     |380000    |\n",
            "|8     |Analytics Engineer                |175000.0          |135000    |205300    |\n",
            "|9     |Data Specialist                   |165000.0          |165000    |165000    |\n",
            "|10    |Head of Data                      |160162.6          |32974     |235000    |\n",
            "|11    |Machine Learning Scientist        |158412.5          |12000     |260000    |\n",
            "|12    |Data Science Manager              |158328.5          |54094     |241000    |\n",
            "|13    |Director of Data Engineering      |156738.0          |113476    |200000    |\n",
            "|14    |Head of Data Science              |146718.75         |85000     |224000    |\n",
            "|15    |Applied Machine Learning Scientist|142068.75         |31875     |423000    |\n",
            "|16    |Lead Data Engineer                |139724.5          |56000     |276000    |\n",
            "|17    |Data Analytics Manager            |127134.28571428571|105400    |150260    |\n",
            "|18    |Cloud Data Engineer               |124647.0          |89294     |160000    |\n",
            "|19    |Data Engineering Manager          |123227.2          |59303     |174000    |\n",
            "|20    |Principal Data Analyst            |122500.0          |75000     |170000    |\n",
            "+------+----------------------------------+------------------+----------+----------+\n",
            "only showing top 20 rows\n",
            "\n"
          ]
        }
      ],
      "source": [
        "df_analytic.show(truncate=False)"
      ]
    },
    {
      "cell_type": "markdown",
      "id": "hybrid-queensland",
      "metadata": {
        "id": "hybrid-queensland"
      },
      "source": [
        "here you need to create df_exp_lvl with the biggest usd_salary(biggest_salary) for each experience_level(you need to save all fields like in entire dataframe)"
      ]
    },
    {
      "cell_type": "code",
      "execution_count": 19,
      "id": "dental-wrist",
      "metadata": {
        "id": "dental-wrist"
      },
      "outputs": [],
      "source": [
        "windowSpec = Window.partitionBy(\"experience_level\").orderBy(desc(\"salary_in_usd\"))\n",
        "df_exp_lvl = df_with_schema.withColumn(\"row_num\", row_number().over(windowSpec))\n",
        "df_exp_lvl = df_exp_lvl.filter(col(\"row_num\") == 1).drop(\"row_num\")"
      ]
    },
    {
      "cell_type": "markdown",
      "id": "innovative-hierarchy",
      "metadata": {
        "id": "innovative-hierarchy"
      },
      "source": [
        "print here df_exp_lvl"
      ]
    },
    {
      "cell_type": "code",
      "execution_count": 20,
      "id": "standing-toilet",
      "metadata": {
        "id": "standing-toilet",
        "colab": {
          "base_uri": "https://localhost:8080/"
        },
        "outputId": "a4a948f2-dad3-409c-da7f-f6457ebfa694"
      },
      "outputs": [
        {
          "output_type": "stream",
          "name": "stdout",
          "text": [
            "+---+---------+----------------+---------------+-------------------------+------+---------------+-------------+------------------+------------+----------------+-----------+\n",
            "|id |work_year|experience_level|employment_type|job_title                |salary|salary_currency|salary_in_usd|employee_residence|remote_ratio|company_location|company_siz|\n",
            "+---+---------+----------------+---------------+-------------------------+------+---------------+-------------+------------------+------------+----------------+-----------+\n",
            "|37 |2020     |EN              |FT             |Machine Learning Engineer|250000|USD            |250000       |US                |50          |US              |L          |\n",
            "|252|2021     |EX              |FT             |Principal Data Engineer  |600000|USD            |600000       |US                |100         |US              |L          |\n",
            "|33 |2020     |MI              |FT             |Research Scientist       |450000|USD            |450000       |US                |0           |US              |M          |\n",
            "|63 |2020     |SE              |FT             |Data Scientist           |412000|USD            |412000       |US                |100         |US              |L          |\n",
            "+---+---------+----------------+---------------+-------------------------+------+---------------+-------------+------------------+------------+----------------+-----------+\n",
            "\n"
          ]
        }
      ],
      "source": [
        "df_exp_lvl.show(truncate=False)"
      ]
    },
    {
      "cell_type": "markdown",
      "id": "hawaiian-mortgage",
      "metadata": {
        "id": "hawaiian-mortgage"
      },
      "source": [
        "create df_best that consists from rows where salary of guy same as biggest salary for other people in his exp_lvl and choose only columns: id, experience_level, biggest_salary, employee_residence"
      ]
    },
    {
      "cell_type": "code",
      "execution_count": 21,
      "id": "toxic-prompt",
      "metadata": {
        "id": "toxic-prompt"
      },
      "outputs": [],
      "source": [
        "df_exp_lvl = df_exp_lvl.withColumnRenamed(\"salary_in_usd\", \"biggest_salary\").withColumnRenamed(\"experience_level\", \"exp_lvl\")\n",
        "df_best = df_with_schema.join(df_exp_lvl.select(\"exp_lvl\", \"biggest_salary\"), df_with_schema.experience_level == df_exp_lvl.exp_lvl, how=\"inner\")\n",
        "df_best = df_best.filter(df_best[\"salary_in_usd\"] == df_exp_lvl[\"biggest_salary\"])"
      ]
    },
    {
      "cell_type": "code",
      "source": [
        "df_best = df_best.select(\"id\", \"experience_level\", \"biggest_salary\", \"employee_residence\")"
      ],
      "metadata": {
        "id": "sdbUArC1d4qx"
      },
      "id": "sdbUArC1d4qx",
      "execution_count": 22,
      "outputs": []
    },
    {
      "cell_type": "markdown",
      "id": "complex-librarian",
      "metadata": {
        "id": "complex-librarian"
      },
      "source": [
        "print df_best"
      ]
    },
    {
      "cell_type": "code",
      "execution_count": 23,
      "id": "smart-texas",
      "metadata": {
        "id": "smart-texas",
        "colab": {
          "base_uri": "https://localhost:8080/"
        },
        "outputId": "fb9eb3e4-b728-4982-97a9-086b3617ccf3"
      },
      "outputs": [
        {
          "output_type": "stream",
          "name": "stdout",
          "text": [
            "+---+----------------+--------------+------------------+\n",
            "| id|experience_level|biggest_salary|employee_residence|\n",
            "+---+----------------+--------------+------------------+\n",
            "| 33|              MI|        450000|                US|\n",
            "| 37|              EN|        250000|                US|\n",
            "| 63|              SE|        412000|                US|\n",
            "| 97|              MI|        450000|                US|\n",
            "|252|              EX|        600000|                US|\n",
            "+---+----------------+--------------+------------------+\n",
            "\n"
          ]
        }
      ],
      "source": [
        "df_best.show()"
      ]
    },
    {
      "cell_type": "markdown",
      "id": "integral-brass",
      "metadata": {
        "id": "integral-brass"
      },
      "source": [
        "drop duplicates if exist by experience_level"
      ]
    },
    {
      "cell_type": "code",
      "execution_count": 24,
      "id": "immune-marine",
      "metadata": {
        "id": "immune-marine"
      },
      "outputs": [],
      "source": [
        "df_best = df_best.dropDuplicates([\"experience_level\"])"
      ]
    },
    {
      "cell_type": "markdown",
      "id": "connected-credit",
      "metadata": {
        "id": "connected-credit"
      },
      "source": [
        "print df_best"
      ]
    },
    {
      "cell_type": "code",
      "execution_count": 25,
      "id": "specified-wellington",
      "metadata": {
        "id": "specified-wellington",
        "colab": {
          "base_uri": "https://localhost:8080/"
        },
        "outputId": "7c2af7fe-0b6d-4522-fa81-4206bf56bc2e"
      },
      "outputs": [
        {
          "output_type": "stream",
          "name": "stdout",
          "text": [
            "+---+----------------+--------------+------------------+\n",
            "| id|experience_level|biggest_salary|employee_residence|\n",
            "+---+----------------+--------------+------------------+\n",
            "| 37|              EN|        250000|                US|\n",
            "|252|              EX|        600000|                US|\n",
            "| 33|              MI|        450000|                US|\n",
            "| 63|              SE|        412000|                US|\n",
            "+---+----------------+--------------+------------------+\n",
            "\n"
          ]
        }
      ],
      "source": [
        "df_best.show()"
      ]
    },
    {
      "cell_type": "markdown",
      "id": "facial-plant",
      "metadata": {
        "id": "facial-plant"
      },
      "source": [
        "create df_new_best from df_best without id, and make the next: when exp_level = MI we want middle, when SE we want senior, else Null"
      ]
    },
    {
      "cell_type": "code",
      "execution_count": 44,
      "id": "infinite-retail",
      "metadata": {
        "id": "infinite-retail"
      },
      "outputs": [],
      "source": [
        "df_new_best = df_best.drop(\"id\")\n",
        "df_new_best = df_new_best.withColumn(\"high_exp_lvl\", when(df_new_best.experience_level == \"MI\", \"middle\")\n",
        "                                                    .when(df_new_best.experience_level == \"SE\", \"senior\")\n",
        "                                                    .otherwise(None))"
      ]
    },
    {
      "cell_type": "markdown",
      "id": "changing-fairy",
      "metadata": {
        "id": "changing-fairy"
      },
      "source": [
        "print df_new_best"
      ]
    },
    {
      "cell_type": "code",
      "execution_count": 45,
      "id": "endless-framework",
      "metadata": {
        "id": "endless-framework",
        "colab": {
          "base_uri": "https://localhost:8080/"
        },
        "outputId": "62eca986-ccff-4589-9286-5aa6a7457c17"
      },
      "outputs": [
        {
          "output_type": "stream",
          "name": "stdout",
          "text": [
            "+----------------+--------------+------------------+------------+\n",
            "|experience_level|biggest_salary|employee_residence|high_exp_lvl|\n",
            "+----------------+--------------+------------------+------------+\n",
            "|              EN|        250000|                US|        NULL|\n",
            "|              EX|        600000|                US|        NULL|\n",
            "|              MI|        450000|                US|      middle|\n",
            "|              SE|        412000|                US|      senior|\n",
            "+----------------+--------------+------------------+------------+\n",
            "\n"
          ]
        }
      ],
      "source": [
        "df_new_best.show()"
      ]
    },
    {
      "cell_type": "markdown",
      "id": "mineral-status",
      "metadata": {
        "id": "mineral-status"
      },
      "source": [
        "write df_new_best like 1.csv and load then it to df_final"
      ]
    },
    {
      "cell_type": "code",
      "execution_count": 46,
      "id": "baking-progress",
      "metadata": {
        "id": "baking-progress"
      },
      "outputs": [],
      "source": [
        "df_new_best.write.csv(\"/PySpark_Basics/1.csv\", header=True, mode='overwrite')\n",
        "df_final = spark.read.csv(\"/PySpark_Basics/1.csv\", header=True, inferSchema=True)"
      ]
    },
    {
      "cell_type": "markdown",
      "id": "vocal-shooting",
      "metadata": {
        "id": "vocal-shooting"
      },
      "source": [
        "print df_final"
      ]
    },
    {
      "cell_type": "code",
      "execution_count": 48,
      "id": "expired-viewer",
      "metadata": {
        "id": "expired-viewer",
        "colab": {
          "base_uri": "https://localhost:8080/"
        },
        "outputId": "5d1d75da-a956-4b23-ec49-230097ed3da6"
      },
      "outputs": [
        {
          "output_type": "stream",
          "name": "stdout",
          "text": [
            "+----------------+--------------+------------------+------------+\n",
            "|experience_level|biggest_salary|employee_residence|high_exp_lvl|\n",
            "+----------------+--------------+------------------+------------+\n",
            "|              EN|        250000|                US|        NULL|\n",
            "|              EX|        600000|                US|        NULL|\n",
            "|              MI|        450000|                US|      middle|\n",
            "|              SE|        412000|                US|      senior|\n",
            "+----------------+--------------+------------------+------------+\n",
            "\n"
          ]
        }
      ],
      "source": [
        "df_final.show()"
      ]
    },
    {
      "cell_type": "markdown",
      "id": "nutritional-progress",
      "metadata": {
        "id": "nutritional-progress"
      },
      "source": [
        "filter df_final to delete experience_level where it Null, then join this table by biggest_salary(salary_in_usd) and employee_residence with entire df"
      ]
    },
    {
      "cell_type": "code",
      "source": [
        "df_final = df_final.filter(col(\"high_exp_lvl\").isNotNull())"
      ],
      "metadata": {
        "id": "I1RaKDZ55e4b"
      },
      "id": "I1RaKDZ55e4b",
      "execution_count": 49,
      "outputs": []
    },
    {
      "cell_type": "code",
      "source": [
        "df_final.show()"
      ],
      "metadata": {
        "colab": {
          "base_uri": "https://localhost:8080/"
        },
        "id": "4nxa7_Ky-QeU",
        "outputId": "8aeb967c-f43b-4c5a-81c6-957fda611b59"
      },
      "id": "4nxa7_Ky-QeU",
      "execution_count": 50,
      "outputs": [
        {
          "output_type": "stream",
          "name": "stdout",
          "text": [
            "+----------------+--------------+------------------+------------+\n",
            "|experience_level|biggest_salary|employee_residence|high_exp_lvl|\n",
            "+----------------+--------------+------------------+------------+\n",
            "|              MI|        450000|                US|      middle|\n",
            "|              SE|        412000|                US|      senior|\n",
            "+----------------+--------------+------------------+------------+\n",
            "\n"
          ]
        }
      ]
    },
    {
      "cell_type": "code",
      "source": [
        "df_final_try = df_final.join(df_with_schema, (df_with_schema.salary_in_usd == df_final.biggest_salary) &\n",
        "                                    (df_with_schema.employee_residence == df_final.employee_residence), how=\"inner\")"
      ],
      "metadata": {
        "id": "e1i64_wh5nd4"
      },
      "id": "e1i64_wh5nd4",
      "execution_count": 51,
      "outputs": []
    },
    {
      "cell_type": "markdown",
      "id": "variable-twins",
      "metadata": {
        "id": "variable-twins"
      },
      "source": [
        "print df_final"
      ]
    },
    {
      "cell_type": "code",
      "execution_count": 52,
      "id": "generic-block",
      "metadata": {
        "id": "generic-block",
        "colab": {
          "base_uri": "https://localhost:8080/"
        },
        "outputId": "b780ade5-34fd-43ef-f434-96f5aff4371c"
      },
      "outputs": [
        {
          "output_type": "stream",
          "name": "stdout",
          "text": [
            "+----------------+--------------+------------------+------------+---+---------+----------------+---------------+--------------------+------+---------------+-------------+------------------+------------+----------------+-----------+\n",
            "|experience_level|biggest_salary|employee_residence|high_exp_lvl| id|work_year|experience_level|employment_type|           job_title|salary|salary_currency|salary_in_usd|employee_residence|remote_ratio|company_location|company_siz|\n",
            "+----------------+--------------+------------------+------------+---+---------+----------------+---------------+--------------------+------+---------------+-------------+------------------+------------+----------------+-----------+\n",
            "|              MI|        450000|                US|      middle| 33|     2020|              MI|             FT|  Research Scientist|450000|            USD|       450000|                US|           0|              US|          M|\n",
            "|              SE|        412000|                US|      senior| 63|     2020|              SE|             FT|      Data Scientist|412000|            USD|       412000|                US|         100|              US|          L|\n",
            "|              MI|        450000|                US|      middle| 97|     2021|              MI|             FT|Financial Data An...|450000|            USD|       450000|                US|         100|              US|          L|\n",
            "+----------------+--------------+------------------+------------+---+---------+----------------+---------------+--------------------+------+---------------+-------------+------------------+------------+----------------+-----------+\n",
            "\n"
          ]
        }
      ],
      "source": [
        "df_final_try.show()"
      ]
    },
    {
      "cell_type": "markdown",
      "id": "variable-moore",
      "metadata": {
        "id": "variable-moore"
      },
      "source": [
        "last task is to save in variable and then print this variable of the biggest salary_in_usd from df_final"
      ]
    },
    {
      "cell_type": "code",
      "execution_count": 53,
      "id": "individual-institution",
      "metadata": {
        "id": "individual-institution",
        "colab": {
          "base_uri": "https://localhost:8080/"
        },
        "outputId": "6be86292-8fe4-42ec-8e33-24fd66afcbdb"
      },
      "outputs": [
        {
          "output_type": "stream",
          "name": "stdout",
          "text": [
            "450000\n"
          ]
        }
      ],
      "source": [
        "biggest_salary = df_final.select(max(\"biggest_salary\")).collect()[0][0]\n",
        "print(biggest_salary)"
      ]
    },
    {
      "cell_type": "markdown",
      "id": "stopped-procedure",
      "metadata": {
        "id": "stopped-procedure"
      },
      "source": [
        "It is the end of PySpark basics. In other lessons you will learn optimizations technics and how to make distributed system"
      ]
    }
  ],
  "metadata": {
    "kernelspec": {
      "display_name": "Python 3",
      "language": "python",
      "name": "python3"
    },
    "language_info": {
      "codemirror_mode": {
        "name": "ipython",
        "version": 3
      },
      "file_extension": ".py",
      "mimetype": "text/x-python",
      "name": "python",
      "nbconvert_exporter": "python",
      "pygments_lexer": "ipython3",
      "version": "3.9.2"
    },
    "colab": {
      "provenance": [],
      "include_colab_link": true
    }
  },
  "nbformat": 4,
  "nbformat_minor": 5
}